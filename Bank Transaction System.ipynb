{
 "cells": [
  {
   "cell_type": "code",
   "execution_count": 8,
   "id": "295e68ca-5905-4408-bb45-ccf2f20273d4",
   "metadata": {},
   "outputs": [
    {
     "name": "stdout",
     "output_type": "stream",
     "text": [
      "\n",
      "Bank System\n",
      "1. Deposit\n",
      "2. Withdraw\n",
      "3. Check Balance\n",
      "4. Exit\n"
     ]
    },
    {
     "name": "stdin",
     "output_type": "stream",
     "text": [
      "Enter your choice: 2\n",
      "Enter withdraw amount: 300\n"
     ]
    },
    {
     "name": "stdout",
     "output_type": "stream",
     "text": [
      "300 withdrawal successfully\n",
      "\n",
      "Bank System\n",
      "1. Deposit\n",
      "2. Withdraw\n",
      "3. Check Balance\n",
      "4. Exit\n"
     ]
    },
    {
     "name": "stdin",
     "output_type": "stream",
     "text": [
      "Enter your choice: 3\n"
     ]
    },
    {
     "name": "stdout",
     "output_type": "stream",
     "text": [
      "Current balance: 700\n",
      "\n",
      "Bank System\n",
      "1. Deposit\n",
      "2. Withdraw\n",
      "3. Check Balance\n",
      "4. Exit\n"
     ]
    },
    {
     "name": "stdin",
     "output_type": "stream",
     "text": [
      "Enter your choice: 4\n"
     ]
    },
    {
     "name": "stdout",
     "output_type": "stream",
     "text": [
      "Exited successfully\n"
     ]
    }
   ],
   "source": [
    "balance = 1000\n",
    "def deposit():\n",
    "    global balance\n",
    "    try:\n",
    "        amount = int(input(\"Enter deposit amount:\"))\n",
    "        balance += amount\n",
    "        print(f\"{amount} deposited successfully\")\n",
    "    except ValueError:\n",
    "        print(\"amount cannot be less than 1\")\n",
    "        \n",
    "def withdraw():\n",
    "    global balance\n",
    "    try:\n",
    "        amount = int(input(\"Enter withdraw amount:\"))\n",
    "        if(amount>balance):\n",
    "            print(\"Insufficient balance\")\n",
    "        else:\n",
    "            balance -= amount\n",
    "            print(f\"{amount} withdrawal successfully\")\n",
    "    except ValueError:\n",
    "        print(\"amount cannot be less than 1\")\n",
    "def check_balance():\n",
    "    print(f\"Current balance: {balance}\")\n",
    "    \n",
    "def menu():\n",
    "    while True:\n",
    "        print(\"\\nBank System\")\n",
    "        print(\"1. Deposit\")\n",
    "        print(\"2. Withdraw\")\n",
    "        print(\"3. Check Balance\")\n",
    "        print(\"4. Exit\")\n",
    "        choice = input(\"Enter your choice:\")\n",
    "        if choice == '1':\n",
    "            deposit()\n",
    "        elif choice == '2':\n",
    "            withdraw()\n",
    "        elif choice == '3':\n",
    "            check_balance()\n",
    "        elif choice == '4':\n",
    "            print(\"Exited successfully\")\n",
    "            break\n",
    "        else:\n",
    "            print(\"Invalid input\")\n",
    "\n",
    "menu()"
   ]
  },
  {
   "cell_type": "code",
   "execution_count": null,
   "id": "ed6fdea4-2338-4973-82f9-58ce44c9d82e",
   "metadata": {},
   "outputs": [],
   "source": []
  }
 ],
 "metadata": {
  "kernelspec": {
   "display_name": "Python [conda env:base] *",
   "language": "python",
   "name": "conda-base-py"
  },
  "language_info": {
   "codemirror_mode": {
    "name": "ipython",
    "version": 3
   },
   "file_extension": ".py",
   "mimetype": "text/x-python",
   "name": "python",
   "nbconvert_exporter": "python",
   "pygments_lexer": "ipython3",
   "version": "3.12.7"
  }
 },
 "nbformat": 4,
 "nbformat_minor": 5
}
