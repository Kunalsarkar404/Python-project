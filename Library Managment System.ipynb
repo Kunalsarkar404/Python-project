{
 "cells": [
  {
   "cell_type": "code",
   "execution_count": 28,
   "id": "a43d1b23-3b8f-45e6-8779-b31a5dba7027",
   "metadata": {},
   "outputs": [
    {
     "name": "stdout",
     "output_type": "stream",
     "text": [
      "Added book: Rich Dad Poor Dad\n",
      "Added book: Think and Grow Rich\n",
      "Search results:\n",
      "- Rich Dad Poor Dad by Robert Kiyosaki (Available)\n",
      "- Think and Grow Rich by Nepoleon Hill (Available)\n",
      "Library data saved.\n",
      "Kunal borrowed Rich Dad Poor Dad.\n",
      "\n",
      "Kunal returned Rich Dad Poor Dad.\n",
      "\n"
     ]
    }
   ],
   "source": [
    "class Person:\n",
    "    def __init__(self, name):\n",
    "        self.name = name\n",
    "\n",
    "class Reader(Person):\n",
    "    def __init__(self, name):\n",
    "        super().__init__(name)\n",
    "        self.borrowed_books = []\n",
    "\n",
    "    def borrow_book(self, book):\n",
    "        if book.available:\n",
    "            book.borrow()\n",
    "            self.borrowed_books.append(book)\n",
    "            print(f\"{self.name} borrowed {book.title}.\\n\")\n",
    "        else:\n",
    "            print(f\"{book.title} is not available.\\n\")\n",
    "\n",
    "    def return_book(self, book):\n",
    "        if book in self.borrowed_books:\n",
    "            borrowed_days = (datetime.now() - book.borrow_date).days\n",
    "            if borrowed_days > 7:\n",
    "                fine = (borrowed_days - 7) * 10\n",
    "                print(f\"Fine for late return: Rs.{fine}\")\n",
    "            book.return_book()\n",
    "            self.borrowed_books.remove(book)\n",
    "            print(f\"{self.name} returned {book.title}.\\n\")\n",
    "        else:\n",
    "            print(f\"{self.name} has not borrowed {book.title}.\")\n",
    "    \n"
   ]
  },
  {
   "cell_type": "code",
   "execution_count": 30,
   "id": "07117b9f-1a5d-44a2-9822-8de2786a525c",
   "metadata": {},
   "outputs": [],
   "source": [
    "from datetime import datetime\n",
    "\n",
    "class Book:\n",
    "    def __init__(self, title, author):\n",
    "        self.title = title\n",
    "        self.author = author\n",
    "        self.available = True\n",
    "        self.borrow_date = None\n",
    "\n",
    "    def borrow(self):\n",
    "        if self.available:\n",
    "            self.available = False\n",
    "            self.borrow_date = datetime.now()\n",
    "        else:\n",
    "            raise ValueError(f\"{self.title} is already borrowed.\\n\")\n",
    "\n",
    "    def return_book(self):\n",
    "        if not self.available:\n",
    "            self.available = True\n",
    "            self.borrow_date = None\n",
    "        else:\n",
    "            raise ValueError(f\"{self.title} was not borrowed.\\n\")"
   ]
  },
  {
   "cell_type": "code",
   "execution_count": 36,
   "id": "f908cfb3-bfdc-417a-8308-2e64633c9ca5",
   "metadata": {},
   "outputs": [],
   "source": [
    "class Library:\n",
    "    def __init__(self):\n",
    "        self.books = []\n",
    "\n",
    "    def add_book(self, book):\n",
    "        self.books.append(book)\n",
    "        print(f\"Added book: {book.title}\")\n",
    "\n",
    "    def show_books(self):\n",
    "        print(\"\\nAvailable books:\")\n",
    "        for book in self.books:\n",
    "            if book.available:\n",
    "                print(f\"- {book.title} by {book.author}\")\n",
    "\n",
    "    def save_to_file(self, filename=\"library_data.txt\"):\n",
    "        with open(filename, \"w\") as file:\n",
    "            for book in self.books:\n",
    "                file.write(f\"{book.title},{book.author},{book.available}\\n\")\n",
    "        print(\"\\nLibrary data saved.\")\n",
    "\n",
    "    def load_from_file(self, filename=\"library_data.txt\"):\n",
    "        try:\n",
    "            with open(filename, \"r\") as file:\n",
    "                for line in file:\n",
    "                    title, author, available = line.strip().split(\",\")\n",
    "                    book = Book(title, author)\n",
    "                    book.available = available == \"True\"\n",
    "                    self.books.append(book)\n",
    "            print(\"Library data loaded.\")\n",
    "        except FileNotFoundError:\n",
    "            print(\"No existing library data found.\")\n",
    "\n",
    "    def search_books(self, query):\n",
    "        results = [book for book in self.books if query.lower() in book.title.lower() or query.lower() in book.author.lower()]\n",
    "        if results:\n",
    "            print(\"Search results:\")\n",
    "            for book in results:\n",
    "                status = \"Available\" if book.available else \"Borrowed\"\n",
    "                print(f\"- {book.title} by {book.author} ({status})\")\n",
    "        else:\n",
    "            print(\"No books found matching the query.\")"
   ]
  },
  {
   "cell_type": "code",
   "execution_count": 38,
   "id": "978d334b-0392-4597-a1e8-c06f7e05d162",
   "metadata": {},
   "outputs": [
    {
     "name": "stdout",
     "output_type": "stream",
     "text": [
      "Added book: Rich Dad Poor Dad\n",
      "Added book: Think and Grow Rich\n",
      "Search results:\n",
      "- Rich Dad Poor Dad by Robert Kiyosaki (Available)\n",
      "- Think and Grow Rich by Nepoleon Hill (Available)\n",
      "\n",
      "Library data saved.\n",
      "Kunal borrowed Rich Dad Poor Dad.\n",
      "\n",
      "Kunal returned Rich Dad Poor Dad.\n",
      "\n"
     ]
    }
   ],
   "source": [
    "library = Library()\n",
    "reader1 = Reader(\"Kunal\")\n",
    "reader2 = Reader(\"Simran\")\n",
    "\n",
    "book1 = Book(\"Rich Dad Poor Dad\", \"Robert Kiyosaki\")\n",
    "book2 = Book(\"Think and Grow Rich\", \"Nepoleon Hill\")\n",
    "\n",
    "library.add_book(book1)\n",
    "library.add_book(book2)\n",
    "\n",
    "library.search_books(\"Rich\")\n",
    "library.save_to_file()\n",
    "\n",
    "reader = Reader(\"Kunal\")\n",
    "reader.borrow_book(book1)\n",
    "reader.return_book(book1)"
   ]
  },
  {
   "cell_type": "code",
   "execution_count": null,
   "id": "f90ee228-f57a-45e6-a3cc-d7a839cf4a35",
   "metadata": {},
   "outputs": [],
   "source": []
  }
 ],
 "metadata": {
  "kernelspec": {
   "display_name": "Python [conda env:base] *",
   "language": "python",
   "name": "conda-base-py"
  },
  "language_info": {
   "codemirror_mode": {
    "name": "ipython",
    "version": 3
   },
   "file_extension": ".py",
   "mimetype": "text/x-python",
   "name": "python",
   "nbconvert_exporter": "python",
   "pygments_lexer": "ipython3",
   "version": "3.12.7"
  }
 },
 "nbformat": 4,
 "nbformat_minor": 5
}
