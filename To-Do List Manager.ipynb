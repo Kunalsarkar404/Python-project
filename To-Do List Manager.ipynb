{
 "cells": [
  {
   "cell_type": "code",
   "execution_count": 12,
   "id": "e1b7e238-c2ee-4e93-93ca-af9133dde4e0",
   "metadata": {},
   "outputs": [
    {
     "name": "stdout",
     "output_type": "stream",
     "text": [
      "\n",
      "To-Do List Manager\n",
      "1. Add Task\n",
      "2. View Tasks\n",
      "3. Clear Tasks\n",
      "4. Exit\n"
     ]
    },
    {
     "name": "stdin",
     "output_type": "stream",
     "text": [
      "Enter your choice:  3\n"
     ]
    },
    {
     "name": "stdout",
     "output_type": "stream",
     "text": [
      "All tasks cleared\n",
      "\n",
      "To-Do List Manager\n",
      "1. Add Task\n",
      "2. View Tasks\n",
      "3. Clear Tasks\n",
      "4. Exit\n"
     ]
    },
    {
     "name": "stdin",
     "output_type": "stream",
     "text": [
      "Enter your choice:  4\n"
     ]
    },
    {
     "name": "stdout",
     "output_type": "stream",
     "text": [
      "Exited successfully\n"
     ]
    }
   ],
   "source": [
    "def add_task():\n",
    "    task = input(\"Enter the task:\")\n",
    "    with open(\"todo.txt\", \"a\") as file:\n",
    "        file.write(task + \"\\n\")\n",
    "    print(\"Task added successfully\")\n",
    "\n",
    "def view_task():\n",
    "    try:\n",
    "        with open(\"todo.txt\", \"r\") as file:\n",
    "            tasks = file.readlines()\n",
    "            if tasks:\n",
    "                print(\"Your Tasks\")\n",
    "                for i, task in enumerate(tasks, start=1):\n",
    "                    print(f\"{i}. {task.strip()}\")\n",
    "            else:\n",
    "                print(\"No task found\")\n",
    "    except FileNotFoundError:\n",
    "        print(\"No task found\")\n",
    "\n",
    "def clear_tasks():\n",
    "    with open(\"todo.txt\", \"w\") as file:\n",
    "        pass\n",
    "    print(\"All tasks cleared\")\n",
    "\n",
    "def menu():\n",
    "    while True:\n",
    "        print(\"\\nTo-Do List Manager\")\n",
    "        print(\"1. Add Task\")\n",
    "        print(\"2. View Tasks\")\n",
    "        print(\"3. Clear Tasks\")\n",
    "        print(\"4. Exit\")\n",
    "        choice = input(\"Enter your choice: \")\n",
    "        if choice == '1':\n",
    "            add_task()\n",
    "        elif choice == '2':\n",
    "            view_task()\n",
    "        elif choice == '3':\n",
    "            clear_tasks()\n",
    "        elif choice == '4':\n",
    "            print(\"Exited successfully\")\n",
    "            break\n",
    "        else:\n",
    "            print(\"Invalid choice\")\n",
    "\n",
    "menu()"
   ]
  },
  {
   "cell_type": "code",
   "execution_count": null,
   "id": "6608d156-959b-4f83-b694-db33f298bbf2",
   "metadata": {},
   "outputs": [],
   "source": []
  }
 ],
 "metadata": {
  "kernelspec": {
   "display_name": "Python [conda env:base] *",
   "language": "python",
   "name": "conda-base-py"
  },
  "language_info": {
   "codemirror_mode": {
    "name": "ipython",
    "version": 3
   },
   "file_extension": ".py",
   "mimetype": "text/x-python",
   "name": "python",
   "nbconvert_exporter": "python",
   "pygments_lexer": "ipython3",
   "version": "3.12.7"
  }
 },
 "nbformat": 4,
 "nbformat_minor": 5
}
